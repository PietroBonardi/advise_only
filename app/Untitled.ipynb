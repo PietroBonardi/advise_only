{
 "cells": [
  {
   "cell_type": "code",
   "execution_count": 2,
   "metadata": {
    "ExecuteTime": {
     "end_time": "2020-06-29T13:27:28.889277Z",
     "start_time": "2020-06-29T13:27:28.887190Z"
    }
   },
   "outputs": [],
   "source": [
    "from kivy.app import App"
   ]
  },
  {
   "cell_type": "code",
   "execution_count": 3,
   "metadata": {
    "ExecuteTime": {
     "end_time": "2020-06-29T13:27:45.839231Z",
     "start_time": "2020-06-29T13:27:45.253885Z"
    }
   },
   "outputs": [],
   "source": [
    "from kivy.uix.label import Label"
   ]
  },
  {
   "cell_type": "code",
   "execution_count": 4,
   "metadata": {
    "ExecuteTime": {
     "end_time": "2020-06-29T13:29:02.557048Z",
     "start_time": "2020-06-29T13:29:02.553498Z"
    }
   },
   "outputs": [],
   "source": [
    "class my_app(App):\n",
    "    def build(self):\n",
    "        return Label(text = \"Hello World!\")\n",
    "\n",
    "def main():\n",
    "    my_app().run\n",
    "\n",
    "if __name__ == \"__main__\":\n",
    "    main()"
   ]
  },
  {
   "cell_type": "code",
   "execution_count": null,
   "metadata": {},
   "outputs": [],
   "source": []
  }
 ],
 "metadata": {
  "kernelspec": {
   "display_name": "Python 3",
   "language": "python",
   "name": "python3"
  },
  "language_info": {
   "codemirror_mode": {
    "name": "ipython",
    "version": 3
   },
   "file_extension": ".py",
   "mimetype": "text/x-python",
   "name": "python",
   "nbconvert_exporter": "python",
   "pygments_lexer": "ipython3",
   "version": "3.7.7"
  }
 },
 "nbformat": 4,
 "nbformat_minor": 4
}
