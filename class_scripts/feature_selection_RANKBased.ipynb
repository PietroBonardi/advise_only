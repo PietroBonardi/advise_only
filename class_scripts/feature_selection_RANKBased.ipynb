{
 "cells": [
  {
   "cell_type": "markdown",
   "metadata": {},
   "source": [
    "# Feature selection - SRANK\n",
    "Nel notebook `SRANK_results.ipynb` abbiamo determinato la score di importanza per ogni feature, ora applichiamo questa conoscenza alla feature selection.\n",
    "La logica è la seguente:\n",
    "* Dato un algoritmo tipo k-Means, parto con la feature più importante e trovo il valore ottimale di cluster\n",
    "* In seguito aggiungo la seconda feature e trovo il valore ottimale di cluster\n",
    "* Così fino ad aver esaurito tutte le features\n",
    "* Alla fine confronto i risultati ottenut i per il numero di feature migliore"
   ]
  },
  {
   "cell_type": "code",
   "execution_count": 1,
   "metadata": {},
   "outputs": [],
   "source": [
    "#############################################\n",
    "#   IMPORT                                  #\n",
    "#############################################\n",
    "#librerie\n",
    "import pandas as pd \n",
    "import numpy as np \n",
    "import math\n",
    "from sklearn.cluster import KMeans\n",
    "from sklearn import metrics\n",
    "from sklearn.metrics import pairwise_distances\n",
    "import matplotlib as mpl\n",
    "import matplotlib.pyplot as plt\n",
    "import seaborn as sns \n",
    "#dataset\n",
    "df = pd.read_csv(\"../DatasetClientClustering.csv\", \n",
    "                 engine='c', \n",
    "                 sep=',', \n",
    "                 encoding='latin-1')\n",
    "df = df.drop(df.columns[list(np.arange(8))], axis=1)\n",
    "df = df.drop(columns=[\"ClientID\"])\n",
    "#seleziono le feature che mi interessa clusterizzare\n",
    "current_investment = [\"PortfolioRisk\", \"PortfolioHorizon\", \n",
    "                      \"AuM\", \"BondInvestments\", \"EquityInvestments\",\n",
    "                      \"MoneyMarketInvestments\", \"OtherInvestments\", \"Cash\"]\n",
    "person_var = [\"RiskPropension\", \"ClientInvestmentHorizon\", \n",
    "              \"ClientKnowledgeExperience\", \"ClientPotentialIndex\",\n",
    "              \"IncomeHighLow\", \"Sex\", \"Age\", \"IncomeNeed\", \n",
    "              \"LongTermCareNeed\", \"ProtectionNeed\",\n",
    "              \"InheritanceIndex\", \"PanicMood\", \n",
    "              \"ClientDateStart\", \"NoTrustInBanks\"]\n",
    "#DATASET CON I PUNTI\n",
    "dataframe = df[person_var]\n",
    "\n",
    "#ora importo la tabella dei rankings\n",
    "rankings = (pd.read_csv(\"SRANKresults.csv\", sep = \";\", index_col = [0])\n",
    "             .sort_values(by = \"score_final\", ascending = False))"
   ]
  },
  {
   "cell_type": "code",
   "execution_count": 6,
   "metadata": {
    "tags": []
   },
   "outputs": [
    {
     "output_type": "stream",
     "name": "stdout",
     "text": "Feature group:  1  /  14\nFeature group:  2  /  14\nFeature group:  3  /  14\nFeature group:  4  /  14\nFeature group:  5  /  14\nFeature group:  6  /  14\nFeature group:  7  /  14\nFeature group:  8  /  14\nFeature group:  9  /  14\nFeature group:  10  /  14\nFeature group:  11  /  14\nFeature group:  12  /  14\nFeature group:  13  /  14\nFeature group:  14  /  14\nNCluster:  4NCluster:  5NCluster:  6NCluster:  7NCluster:  8NCluster:  9NCluster:  10NCluster:  11NCluster:  12NCluster:  13NCluster:  14NCluster:  15NCluster:  16NCluster:  17NCluster:  18NCluster:  19NCluster:  20"
    },
    {
     "output_type": "execute_result",
     "data": {
      "text/plain": "        CH_index  n_clusters  feature_group\n0   46320.568407           2              0\n1   46953.091262           2              1\n2    5288.689276           2              2\n3    3382.697205           2              3\n4    1778.738150           2              4\n5    1303.356266           2              5\n6    1250.071904           2              6\n7    1079.017499           2              7\n8    1269.608224           2              8\n9    1299.788671           2              9\n10   1402.522333           2             10\n11  20144.981125           2             11\n12   7964.061360           2             12\n13   4461.114608           2             13",
      "text/html": "<div>\n<style scoped>\n    .dataframe tbody tr th:only-of-type {\n        vertical-align: middle;\n    }\n\n    .dataframe tbody tr th {\n        vertical-align: top;\n    }\n\n    .dataframe thead th {\n        text-align: right;\n    }\n</style>\n<table border=\"1\" class=\"dataframe\">\n  <thead>\n    <tr style=\"text-align: right;\">\n      <th></th>\n      <th>CH_index</th>\n      <th>n_clusters</th>\n      <th>feature_group</th>\n    </tr>\n  </thead>\n  <tbody>\n    <tr>\n      <td>0</td>\n      <td>46320.568407</td>\n      <td>2</td>\n      <td>0</td>\n    </tr>\n    <tr>\n      <td>1</td>\n      <td>46953.091262</td>\n      <td>2</td>\n      <td>1</td>\n    </tr>\n    <tr>\n      <td>2</td>\n      <td>5288.689276</td>\n      <td>2</td>\n      <td>2</td>\n    </tr>\n    <tr>\n      <td>3</td>\n      <td>3382.697205</td>\n      <td>2</td>\n      <td>3</td>\n    </tr>\n    <tr>\n      <td>4</td>\n      <td>1778.738150</td>\n      <td>2</td>\n      <td>4</td>\n    </tr>\n    <tr>\n      <td>5</td>\n      <td>1303.356266</td>\n      <td>2</td>\n      <td>5</td>\n    </tr>\n    <tr>\n      <td>6</td>\n      <td>1250.071904</td>\n      <td>2</td>\n      <td>6</td>\n    </tr>\n    <tr>\n      <td>7</td>\n      <td>1079.017499</td>\n      <td>2</td>\n      <td>7</td>\n    </tr>\n    <tr>\n      <td>8</td>\n      <td>1269.608224</td>\n      <td>2</td>\n      <td>8</td>\n    </tr>\n    <tr>\n      <td>9</td>\n      <td>1299.788671</td>\n      <td>2</td>\n      <td>9</td>\n    </tr>\n    <tr>\n      <td>10</td>\n      <td>1402.522333</td>\n      <td>2</td>\n      <td>10</td>\n    </tr>\n    <tr>\n      <td>11</td>\n      <td>20144.981125</td>\n      <td>2</td>\n      <td>11</td>\n    </tr>\n    <tr>\n      <td>12</td>\n      <td>7964.061360</td>\n      <td>2</td>\n      <td>12</td>\n    </tr>\n    <tr>\n      <td>13</td>\n      <td>4461.114608</td>\n      <td>2</td>\n      <td>13</td>\n    </tr>\n  </tbody>\n</table>\n</div>"
     },
     "metadata": {},
     "execution_count": 6
    }
   ],
   "source": [
    "#############################################\n",
    "#   K-MEANS - Calinski-Harabasz Index       #\n",
    "#############################################\n",
    "#si seleziona per ogni gruppo di feature il numero di cluster ottimale\n",
    "#si confrontano poi i risultati ottimali per ogni gruppo di features\n",
    "\n",
    "#array di features considerate per il clustering\n",
    "feature_group = []\n",
    "\n",
    "#tengo le statistiche nei seguenti 3 vettori\n",
    "bestof_group_CHindex = []\n",
    "bestof_group_ncluster = []\n",
    "bestof_group_feature_group = [i for i in range(len(rankings.index))]\n",
    "\n",
    "for feature in rankings[\"feature\"]:\n",
    "    #aggiungo una feature al gruppo e prendo i dati\n",
    "    feature_group.append(feature)\n",
    "    data_section = dataframe[feature_group]\n",
    "    #stampo i progressi\n",
    "    print(\"Feature group: \", len(feature_group), \n",
    "        \" / \", len(rankings.index))\n",
    "    \n",
    "    #vario il numero di cluster fra 1 e 20\n",
    "    #per ognuno calcolo l'indice \n",
    "    for nClusters in range(2, 21):\n",
    "        #stampo i progressi\n",
    "        print(\"NCluster: \", nClusters), \n",
    "        print(\"\\r\")\n",
    "        \n",
    "        #array dei valori del parametro\n",
    "        nCluster_scores = []\n",
    "        \n",
    "        #fitto e calcolo, aggiungo il valore all'array\n",
    "        kmeans_model = KMeans(n_clusters = nClusters, random_state = 1)\n",
    "        kmeans_model.fit(data_section)\n",
    "        labels = kmeans_model.labels_\n",
    "        nCluster_scores.append(metrics.calinski_harabasz_score(data_section, labels))\n",
    "    \n",
    "    #ora salvo i valori migliori nei vettori\n",
    "    best_CH = max(nCluster_scores)\n",
    "    nClusters_best = nCluster_scores.index(best_CH) + 2\n",
    "    bestof_group_CHindex.append(best_CH)\n",
    "    bestof_group_ncluster.append(nClusters_best)\n",
    "\n",
    "#creo un dataframe e plotto\n",
    "results = pd.DataFrame({\n",
    "                            \"CH_index\" : bestof_group_CHindex, \n",
    "                            \"n_clusters\" : bestof_group_ncluster, \n",
    "                            \"feature_group\" : bestof_group_feature_group\n",
    "                        })\n",
    "\n"
   ]
  }
 ],
 "metadata": {
  "language_info": {
   "codemirror_mode": {
    "name": "ipython",
    "version": 3
   },
   "file_extension": ".py",
   "mimetype": "text/x-python",
   "name": "python",
   "nbconvert_exporter": "python",
   "pygments_lexer": "ipython3",
   "version": "3.7.4-final"
  },
  "orig_nbformat": 2,
  "kernelspec": {
   "name": "python37464bitbaseconda06b1561953f74f33a9fd63842c0f7dcf",
   "display_name": "Python 3.7.4 64-bit ('base': conda)"
  }
 },
 "nbformat": 4,
 "nbformat_minor": 2
}